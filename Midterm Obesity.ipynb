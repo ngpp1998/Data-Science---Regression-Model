{
 "cells": [
  {
   "cell_type": "markdown",
   "id": "15c39e89",
   "metadata": {},
   "source": [
    "# Introduction\n",
    "\n",
    "## Domain-specific area\n",
    "The domain-specific area that I have chosen is related to the healthcare industry. There are many areas in the healthcare industry that can benefit from machine learning and most of these areas are about determining the probability of a patient having a specific type of disease, such as diabetes based on blood pressure, glucose level and other symptoms. However, in this project, we will be building a regression model to identify whether a person is obese based on his or her height and weight. This is possible as there are already current studies to determine a person's body mass index using the same factors, which are are height and weight. It is important to know the state of one's body as obesity can lead to many deadly diseases such as diabetes and cancer. With the use of a regression model, healthcare workers will be able to calculate the probability and predict whether person is obese. Healthcare workers can then advise patients on follow up procedures to maintain a healthy body such as exercising more or eating less food with high calories. This can benefit the society as people will be able to understand more about the state of their bodies, whether they are close to being obese, and this knowledge can potentially save someone's life.\n",
    "\n",
    "## Dataset\n",
    "I have identified a suitable dataset from [Kaggle](https://www.kaggle.com/datasets/yersever/500-person-gender-height-weight-bodymassindex) (Ersever, n.d.), a recommended website with thousands of available datasets for download. The dataset that I have decided to use is a CSV file consisting of the height, measured in centimeters, weight, measured in kilograms and an index ranging from 1 to 5 for 500 personel. Here is a description of the index column:\n",
    "\n",
    "0 - Extremely Weak\n",
    "\n",
    "1 - Weak\n",
    "\n",
    "2 - Normal\n",
    "\n",
    "3 - Overweight\n",
    "\n",
    "4 - Obesity\n",
    "\n",
    "5 - Extreme Obesity\n",
    "\n",
    "I believe this dataset is suitable for the aim of the project as 500 data in size is neither too small or too big, but just the right amount. Furthermore, it includes the important factors that my project must acquire to fulfill the objectives. Following the implementation of the project, I will be separating the dataset into two parts, namely the training set and the test set, with 80% of initial data in the training set and 20% of initial data in the test set. The training data is used to build the regression model while the test set is used to test the accuracy of the regression model.\n",
    "\n",
    "Below are some codes to display the data types of each column and the dataset."
   ]
  },
  {
   "cell_type": "code",
   "execution_count": 1,
   "id": "ee9ce27b",
   "metadata": {},
   "outputs": [
    {
     "name": "stdout",
     "output_type": "stream",
     "text": [
      "Gender    object\n",
      "Height     int64\n",
      "Weight     int64\n",
      "Index      int64\n",
      "dtype: object\n"
     ]
    }
   ],
   "source": [
    "#importing all necessary libraries\n",
    "import pandas as pd\n",
    "import numpy as np\n",
    "import statistics\n",
    "import scipy.stats as stats\n",
    "import matplotlib.pyplot as plt\n",
    "import seaborn as sns\n",
    "from scipy.stats import kurtosis\n",
    "from scipy.stats import skew\n",
    "from mpl_toolkits.mplot3d import Axes3D\n",
    "from sklearn.model_selection import train_test_split\n",
    "from sklearn.linear_model import LogisticRegression\n",
    "from sklearn.metrics import mean_squared_error\n",
    "\n",
    "#load the csv file\n",
    "df = pd.read_csv('BMI.csv')\n",
    "\n",
    "#display the data types of each attribute\n",
    "print(df.dtypes)"
   ]
  },
  {
   "cell_type": "code",
   "execution_count": 2,
   "id": "4c7d6a94",
   "metadata": {
    "scrolled": false
   },
   "outputs": [
    {
     "data": {
      "text/html": [
       "<div>\n",
       "<style scoped>\n",
       "    .dataframe tbody tr th:only-of-type {\n",
       "        vertical-align: middle;\n",
       "    }\n",
       "\n",
       "    .dataframe tbody tr th {\n",
       "        vertical-align: top;\n",
       "    }\n",
       "\n",
       "    .dataframe thead th {\n",
       "        text-align: right;\n",
       "    }\n",
       "</style>\n",
       "<table border=\"1\" class=\"dataframe\">\n",
       "  <thead>\n",
       "    <tr style=\"text-align: right;\">\n",
       "      <th></th>\n",
       "      <th>Gender</th>\n",
       "      <th>Height</th>\n",
       "      <th>Weight</th>\n",
       "      <th>Index</th>\n",
       "    </tr>\n",
       "  </thead>\n",
       "  <tbody>\n",
       "    <tr>\n",
       "      <th>0</th>\n",
       "      <td>Male</td>\n",
       "      <td>174</td>\n",
       "      <td>96</td>\n",
       "      <td>4</td>\n",
       "    </tr>\n",
       "    <tr>\n",
       "      <th>1</th>\n",
       "      <td>Male</td>\n",
       "      <td>189</td>\n",
       "      <td>87</td>\n",
       "      <td>2</td>\n",
       "    </tr>\n",
       "    <tr>\n",
       "      <th>2</th>\n",
       "      <td>Female</td>\n",
       "      <td>185</td>\n",
       "      <td>110</td>\n",
       "      <td>4</td>\n",
       "    </tr>\n",
       "    <tr>\n",
       "      <th>3</th>\n",
       "      <td>Female</td>\n",
       "      <td>195</td>\n",
       "      <td>104</td>\n",
       "      <td>3</td>\n",
       "    </tr>\n",
       "    <tr>\n",
       "      <th>4</th>\n",
       "      <td>Male</td>\n",
       "      <td>149</td>\n",
       "      <td>61</td>\n",
       "      <td>3</td>\n",
       "    </tr>\n",
       "    <tr>\n",
       "      <th>...</th>\n",
       "      <td>...</td>\n",
       "      <td>...</td>\n",
       "      <td>...</td>\n",
       "      <td>...</td>\n",
       "    </tr>\n",
       "    <tr>\n",
       "      <th>495</th>\n",
       "      <td>Female</td>\n",
       "      <td>150</td>\n",
       "      <td>153</td>\n",
       "      <td>5</td>\n",
       "    </tr>\n",
       "    <tr>\n",
       "      <th>496</th>\n",
       "      <td>Female</td>\n",
       "      <td>184</td>\n",
       "      <td>121</td>\n",
       "      <td>4</td>\n",
       "    </tr>\n",
       "    <tr>\n",
       "      <th>497</th>\n",
       "      <td>Female</td>\n",
       "      <td>141</td>\n",
       "      <td>136</td>\n",
       "      <td>5</td>\n",
       "    </tr>\n",
       "    <tr>\n",
       "      <th>498</th>\n",
       "      <td>Male</td>\n",
       "      <td>150</td>\n",
       "      <td>95</td>\n",
       "      <td>5</td>\n",
       "    </tr>\n",
       "    <tr>\n",
       "      <th>499</th>\n",
       "      <td>Male</td>\n",
       "      <td>173</td>\n",
       "      <td>131</td>\n",
       "      <td>5</td>\n",
       "    </tr>\n",
       "  </tbody>\n",
       "</table>\n",
       "<p>500 rows × 4 columns</p>\n",
       "</div>"
      ],
      "text/plain": [
       "     Gender  Height  Weight  Index\n",
       "0      Male     174      96      4\n",
       "1      Male     189      87      2\n",
       "2    Female     185     110      4\n",
       "3    Female     195     104      3\n",
       "4      Male     149      61      3\n",
       "..      ...     ...     ...    ...\n",
       "495  Female     150     153      5\n",
       "496  Female     184     121      4\n",
       "497  Female     141     136      5\n",
       "498    Male     150      95      5\n",
       "499    Male     173     131      5\n",
       "\n",
       "[500 rows x 4 columns]"
      ]
     },
     "metadata": {},
     "output_type": "display_data"
    }
   ],
   "source": [
    "from IPython.display import display\n",
    "\n",
    "#display the dataset\n",
    "display(df)"
   ]
  },
  {
   "cell_type": "markdown",
   "id": "cd055d2b",
   "metadata": {},
   "source": [
    "## Objectives of the project\n",
    "The objective of this project is to predict whether a person is obese based on his or her height and weight. By building this regression model, we will be able to predict the probability of a person being obese and their chances of getting other diseases which can be deadly, such as heart diseases and breathing problems. This will greatly benefit the society and as one always says, \"Prevention is better than cure\". Furthermore, height and weight are two very easily measured units where most people can measure themselves comfortably at home, so it is really an accessible instrument using height and weight to check whether one is at low or high risk of being obese. Once this regression model has been built, people will be able to access it and check for themselves. From there, the model can reply with a few suggestions to achieve a healthier body as a reminder. Regarding the ML approach to accomplishing the aim of this project and knowing that we have two deciding factors, namely height and weight, and the binary outcome is whether a person is obese or not, I have decided to use multiple logistic regression to identify the pattern and relationship from height and weight to obesity.\n",
    "\n",
    "# Implementation\n",
    "We have already stored the dataset, which is a CSV File, locally in this enviroment as shown above, so the next step is to preprocess the data by removing data with missing values and group some datas together, in this case, under the index column, 0-3 is defined as not obese and 4-5 is defined as obese. Once the \"Obese\" column has been created, we can remove the \"Index\" and \"Gender\" columns which are unnecessary. We will also check if the preprocessed dataset is in First Normal Form (1NF) where only atomic values exist in each column.\n",
    "\n",
    "## Pre-processing"
   ]
  },
  {
   "cell_type": "code",
   "execution_count": 3,
   "id": "57873953",
   "metadata": {
    "scrolled": false
   },
   "outputs": [
    {
     "name": "stdout",
     "output_type": "stream",
     "text": [
      "Column Height is in 1NF\n",
      "Column Weight is in 1NF\n",
      "Column Obese is in 1NF\n",
      "Height     int64\n",
      "Weight     int64\n",
      "Obese     object\n",
      "dtype: object\n"
     ]
    },
    {
     "data": {
      "text/html": [
       "<div>\n",
       "<style scoped>\n",
       "    .dataframe tbody tr th:only-of-type {\n",
       "        vertical-align: middle;\n",
       "    }\n",
       "\n",
       "    .dataframe tbody tr th {\n",
       "        vertical-align: top;\n",
       "    }\n",
       "\n",
       "    .dataframe thead th {\n",
       "        text-align: right;\n",
       "    }\n",
       "</style>\n",
       "<table border=\"1\" class=\"dataframe\">\n",
       "  <thead>\n",
       "    <tr style=\"text-align: right;\">\n",
       "      <th></th>\n",
       "      <th>Height</th>\n",
       "      <th>Weight</th>\n",
       "      <th>Obese</th>\n",
       "    </tr>\n",
       "  </thead>\n",
       "  <tbody>\n",
       "    <tr>\n",
       "      <th>0</th>\n",
       "      <td>174</td>\n",
       "      <td>96</td>\n",
       "      <td>1</td>\n",
       "    </tr>\n",
       "    <tr>\n",
       "      <th>1</th>\n",
       "      <td>189</td>\n",
       "      <td>87</td>\n",
       "      <td>0</td>\n",
       "    </tr>\n",
       "    <tr>\n",
       "      <th>2</th>\n",
       "      <td>185</td>\n",
       "      <td>110</td>\n",
       "      <td>1</td>\n",
       "    </tr>\n",
       "    <tr>\n",
       "      <th>3</th>\n",
       "      <td>195</td>\n",
       "      <td>104</td>\n",
       "      <td>0</td>\n",
       "    </tr>\n",
       "    <tr>\n",
       "      <th>4</th>\n",
       "      <td>149</td>\n",
       "      <td>61</td>\n",
       "      <td>0</td>\n",
       "    </tr>\n",
       "    <tr>\n",
       "      <th>...</th>\n",
       "      <td>...</td>\n",
       "      <td>...</td>\n",
       "      <td>...</td>\n",
       "    </tr>\n",
       "    <tr>\n",
       "      <th>495</th>\n",
       "      <td>150</td>\n",
       "      <td>153</td>\n",
       "      <td>1</td>\n",
       "    </tr>\n",
       "    <tr>\n",
       "      <th>496</th>\n",
       "      <td>184</td>\n",
       "      <td>121</td>\n",
       "      <td>1</td>\n",
       "    </tr>\n",
       "    <tr>\n",
       "      <th>497</th>\n",
       "      <td>141</td>\n",
       "      <td>136</td>\n",
       "      <td>1</td>\n",
       "    </tr>\n",
       "    <tr>\n",
       "      <th>498</th>\n",
       "      <td>150</td>\n",
       "      <td>95</td>\n",
       "      <td>1</td>\n",
       "    </tr>\n",
       "    <tr>\n",
       "      <th>499</th>\n",
       "      <td>173</td>\n",
       "      <td>131</td>\n",
       "      <td>1</td>\n",
       "    </tr>\n",
       "  </tbody>\n",
       "</table>\n",
       "<p>500 rows × 3 columns</p>\n",
       "</div>"
      ],
      "text/plain": [
       "     Height  Weight Obese\n",
       "0       174      96     1\n",
       "1       189      87     0\n",
       "2       185     110     1\n",
       "3       195     104     0\n",
       "4       149      61     0\n",
       "..      ...     ...   ...\n",
       "495     150     153     1\n",
       "496     184     121     1\n",
       "497     141     136     1\n",
       "498     150      95     1\n",
       "499     173     131     1\n",
       "\n",
       "[500 rows x 3 columns]"
      ]
     },
     "metadata": {},
     "output_type": "display_data"
    }
   ],
   "source": [
    "# fixing the problem of missing values\n",
    "df.isnull().sum()\n",
    "df = df.dropna()\n",
    "df = df.fillna(df.mean(numeric_only=True))\n",
    "\n",
    "# changing the column \"Index\" to \"Obese\" and 0 means not obese and 1 means obese\n",
    "df['Obese'] = np.where(df['Index'] < 4, '0', '1')\n",
    "\n",
    "# removing the column \"Index\"\n",
    "df = df.drop('Index', axis=1)\n",
    "\n",
    "# removing the column \"Gender\"\n",
    "df = df.drop('Gender', axis=1)\n",
    "\n",
    "# check each column has atomic values\n",
    "for column in df.columns:\n",
    "    if not df[column].apply(lambda x: isinstance(x, (int, float, str))).all():\n",
    "        print(f'Column {column} is not in 1NF')\n",
    "    else:\n",
    "        print(f'Column {column} is in 1NF')\n",
    "\n",
    "#display the data types of each attribute\n",
    "print(df.dtypes)\n",
    "\n",
    "#display the new dataset\n",
    "display(df)"
   ]
  },
  {
   "cell_type": "markdown",
   "id": "60c21da8",
   "metadata": {},
   "source": [
    "## Statistical Analysis"
   ]
  },
  {
   "cell_type": "code",
   "execution_count": 4,
   "id": "b864fc33",
   "metadata": {},
   "outputs": [
    {
     "data": {
      "text/plain": [
       "Height    169.944\n",
       "Weight    106.000\n",
       "Obese       0.656\n",
       "dtype: float64"
      ]
     },
     "execution_count": 4,
     "metadata": {},
     "output_type": "execute_result"
    }
   ],
   "source": [
    "# measures of central tendency\n",
    "\n",
    "# changing the data type of Obese from object to integer\n",
    "df = df.astype({'Obese':'int'})\n",
    "\n",
    "# mean of height, weight\n",
    "df.mean()"
   ]
  },
  {
   "cell_type": "code",
   "execution_count": 5,
   "id": "d337d568",
   "metadata": {},
   "outputs": [
    {
     "data": {
      "text/plain": [
       "1    328\n",
       "0    172\n",
       "Name: Obese, dtype: int64"
      ]
     },
     "execution_count": 5,
     "metadata": {},
     "output_type": "execute_result"
    }
   ],
   "source": [
    "# number of obese for 500 personnel\n",
    "df['Obese'].value_counts()"
   ]
  },
  {
   "cell_type": "code",
   "execution_count": 6,
   "id": "bacf742f",
   "metadata": {
    "scrolled": true
   },
   "outputs": [
    {
     "data": {
      "text/plain": [
       "Height    170.5\n",
       "Weight    106.0\n",
       "Obese       1.0\n",
       "dtype: float64"
      ]
     },
     "execution_count": 6,
     "metadata": {},
     "output_type": "execute_result"
    }
   ],
   "source": [
    "# calculating median of the dataset\n",
    "df.median()"
   ]
  },
  {
   "cell_type": "code",
   "execution_count": 7,
   "id": "ebf21b5e",
   "metadata": {
    "scrolled": true
   },
   "outputs": [
    {
     "data": {
      "text/html": [
       "<div>\n",
       "<style scoped>\n",
       "    .dataframe tbody tr th:only-of-type {\n",
       "        vertical-align: middle;\n",
       "    }\n",
       "\n",
       "    .dataframe tbody tr th {\n",
       "        vertical-align: top;\n",
       "    }\n",
       "\n",
       "    .dataframe thead th {\n",
       "        text-align: right;\n",
       "    }\n",
       "</style>\n",
       "<table border=\"1\" class=\"dataframe\">\n",
       "  <thead>\n",
       "    <tr style=\"text-align: right;\">\n",
       "      <th></th>\n",
       "      <th>Height</th>\n",
       "      <th>Weight</th>\n",
       "      <th>Obese</th>\n",
       "    </tr>\n",
       "  </thead>\n",
       "  <tbody>\n",
       "    <tr>\n",
       "      <th>0</th>\n",
       "      <td>188.0</td>\n",
       "      <td>50</td>\n",
       "      <td>1.0</td>\n",
       "    </tr>\n",
       "    <tr>\n",
       "      <th>1</th>\n",
       "      <td>NaN</td>\n",
       "      <td>80</td>\n",
       "      <td>NaN</td>\n",
       "    </tr>\n",
       "    <tr>\n",
       "      <th>2</th>\n",
       "      <td>NaN</td>\n",
       "      <td>104</td>\n",
       "      <td>NaN</td>\n",
       "    </tr>\n",
       "  </tbody>\n",
       "</table>\n",
       "</div>"
      ],
      "text/plain": [
       "   Height  Weight  Obese\n",
       "0   188.0      50    1.0\n",
       "1     NaN      80    NaN\n",
       "2     NaN     104    NaN"
      ]
     },
     "execution_count": 7,
     "metadata": {},
     "output_type": "execute_result"
    }
   ],
   "source": [
    "# calculating mode of the dataset\n",
    "df.mode()"
   ]
  },
  {
   "cell_type": "code",
   "execution_count": 8,
   "id": "14d45590",
   "metadata": {},
   "outputs": [
    {
     "data": {
      "text/html": [
       "<div>\n",
       "<style scoped>\n",
       "    .dataframe tbody tr th:only-of-type {\n",
       "        vertical-align: middle;\n",
       "    }\n",
       "\n",
       "    .dataframe tbody tr th {\n",
       "        vertical-align: top;\n",
       "    }\n",
       "\n",
       "    .dataframe thead th {\n",
       "        text-align: right;\n",
       "    }\n",
       "</style>\n",
       "<table border=\"1\" class=\"dataframe\">\n",
       "  <thead>\n",
       "    <tr style=\"text-align: right;\">\n",
       "      <th></th>\n",
       "      <th>Height</th>\n",
       "      <th>Weight</th>\n",
       "      <th>Obese</th>\n",
       "    </tr>\n",
       "  </thead>\n",
       "  <tbody>\n",
       "    <tr>\n",
       "      <th>count</th>\n",
       "      <td>500.000000</td>\n",
       "      <td>500.000000</td>\n",
       "      <td>500.000000</td>\n",
       "    </tr>\n",
       "    <tr>\n",
       "      <th>mean</th>\n",
       "      <td>169.944000</td>\n",
       "      <td>106.000000</td>\n",
       "      <td>0.656000</td>\n",
       "    </tr>\n",
       "    <tr>\n",
       "      <th>std</th>\n",
       "      <td>16.375261</td>\n",
       "      <td>32.382607</td>\n",
       "      <td>0.475517</td>\n",
       "    </tr>\n",
       "    <tr>\n",
       "      <th>min</th>\n",
       "      <td>140.000000</td>\n",
       "      <td>50.000000</td>\n",
       "      <td>0.000000</td>\n",
       "    </tr>\n",
       "    <tr>\n",
       "      <th>25%</th>\n",
       "      <td>156.000000</td>\n",
       "      <td>80.000000</td>\n",
       "      <td>0.000000</td>\n",
       "    </tr>\n",
       "    <tr>\n",
       "      <th>50%</th>\n",
       "      <td>170.500000</td>\n",
       "      <td>106.000000</td>\n",
       "      <td>1.000000</td>\n",
       "    </tr>\n",
       "    <tr>\n",
       "      <th>75%</th>\n",
       "      <td>184.000000</td>\n",
       "      <td>136.000000</td>\n",
       "      <td>1.000000</td>\n",
       "    </tr>\n",
       "    <tr>\n",
       "      <th>max</th>\n",
       "      <td>199.000000</td>\n",
       "      <td>160.000000</td>\n",
       "      <td>1.000000</td>\n",
       "    </tr>\n",
       "  </tbody>\n",
       "</table>\n",
       "</div>"
      ],
      "text/plain": [
       "           Height      Weight       Obese\n",
       "count  500.000000  500.000000  500.000000\n",
       "mean   169.944000  106.000000    0.656000\n",
       "std     16.375261   32.382607    0.475517\n",
       "min    140.000000   50.000000    0.000000\n",
       "25%    156.000000   80.000000    0.000000\n",
       "50%    170.500000  106.000000    1.000000\n",
       "75%    184.000000  136.000000    1.000000\n",
       "max    199.000000  160.000000    1.000000"
      ]
     },
     "execution_count": 8,
     "metadata": {},
     "output_type": "execute_result"
    }
   ],
   "source": [
    "# displays a statistical summary of the dataframe\n",
    "df.describe()"
   ]
  },
  {
   "cell_type": "code",
   "execution_count": 9,
   "id": "8e4b04ce",
   "metadata": {
    "scrolled": true
   },
   "outputs": [
    {
     "name": "stdout",
     "output_type": "stream",
     "text": [
      "The range for Height is: 59\n",
      "The range for Weight is: 110\n",
      "The range for Obese is: 1\n",
      "The interquartile range for Height is: 28.0\n",
      "The interquartile range for Weight is: 56.0\n",
      "The interquartile range for Obese is: 1.0\n",
      "The variance for Height is: 268.1491623246493\n",
      "The variance for Weight is: 1048.633266533066\n",
      "The variance for Obese is: 0.22611623246492987\n",
      "The standard deviation for Height is: 16.375260679593755\n",
      "The standard deviation for Weight is: 32.38260746964435\n",
      "The standard deviation for Obese is: 0.4755168056598314\n"
     ]
    }
   ],
   "source": [
    "# measures of spread\n",
    "\n",
    "# calculate range\n",
    "def range(x):\n",
    "    return max(x) - min(x)\n",
    "\n",
    "print('The range for Height is:', range(df['Height']))\n",
    "print('The range for Weight is:', range(df['Weight']))\n",
    "print('The range for Obese is:', range(df['Obese']))\n",
    "\n",
    "# calculate interquartile range\n",
    "def interquartile(y):\n",
    "    q1, q3 = np.percentile(y, [25,75])\n",
    "    return q3 - q1\n",
    "\n",
    "print('The interquartile range for Height is:', interquartile(df['Height']))\n",
    "print('The interquartile range for Weight is:', interquartile(df['Weight']))\n",
    "print('The interquartile range for Obese is:', interquartile(df['Obese']))\n",
    "\n",
    "# calculate variance\n",
    "print('The variance for Height is:', statistics.variance(df['Height']))\n",
    "print('The variance for Weight is:', statistics.variance(df['Weight']))\n",
    "print('The variance for Obese is:', statistics.variance(df['Obese']))\n",
    "\n",
    "# calculate standard deviation\n",
    "print('The standard deviation for Height is:', statistics.stdev(df['Height']))\n",
    "print('The standard deviation for Weight is:', statistics.stdev(df['Weight']))\n",
    "print('The standard deviation for Obese is:', statistics.stdev(df['Obese']))"
   ]
  },
  {
   "cell_type": "code",
   "execution_count": 10,
   "id": "c1d0d1e5",
   "metadata": {
    "scrolled": true
   },
   "outputs": [
    {
     "name": "stdout",
     "output_type": "stream",
     "text": [
      "This is not a uniform distribution\n",
      "This is a left skewed distribution\n"
     ]
    },
    {
     "data": {
      "image/png": "[encoded data removed]",
      "text/plain": [
       "<Figure size 432x288 with 1 Axes>"
      ]
     },
     "metadata": {
      "needs_background": "light"
     },
     "output_type": "display_data"
    }
   ],
   "source": [
    "# plotting histogram to check the type of distribution\n",
    "plt.hist(df['Height'])\n",
    "plt.show\n",
    "\n",
    "# check if the distribution is uniform\n",
    "if kurtosis(df['Height']) == 0:\n",
    "    print(\"This is a uniform distribution\")\n",
    "else:\n",
    "    print(\"This is not a uniform distribution\")\n",
    "\n",
    "# check if the distribution is left skewed or right skewed\n",
    "if skew(df['Height']) < 0:\n",
    "    print(\"This is a left skewed distribution\")\n",
    "elif skew(df['Height']) > 0:\n",
    "    print(\"This is a right skewed distribution\")"
   ]
  },
  {
   "cell_type": "code",
   "execution_count": 11,
   "id": "de20fb4f",
   "metadata": {},
   "outputs": [
    {
     "name": "stdout",
     "output_type": "stream",
     "text": [
      "This is not a uniform distribution\n",
      "This is a left skewed distribution\n"
     ]
    },
    {
     "data": {
      "image/png": "[encoded data removed]",
      "text/plain": [
       "<Figure size 432x288 with 1 Axes>"
      ]
     },
     "metadata": {
      "needs_background": "light"
     },
     "output_type": "display_data"
    }
   ],
   "source": [
    "# plotting histogram to check the type of distribution\n",
    "plt.hist(df['Weight'])\n",
    "plt.show\n",
    "\n",
    "# check if the distribution is uniform\n",
    "if kurtosis(df['Weight']) == 0:\n",
    "    print(\"This is a uniform distribution\")\n",
    "else:\n",
    "    print(\"This is not a uniform distribution\")\n",
    "\n",
    "# check if the distribution is left skewed or right skewed\n",
    "if skew(df['Weight']) < 0:\n",
    "    print(\"This is a left skewed distribution\")\n",
    "elif skew(df['Weight']) > 0:\n",
    "    print(\"This is a right skewed distribution\")"
   ]
  },
  {
   "cell_type": "code",
   "execution_count": 12,
   "id": "2d114937",
   "metadata": {
    "scrolled": true
   },
   "outputs": [
    {
     "name": "stdout",
     "output_type": "stream",
     "text": [
      "This is a non-symmetrical bimodal distribution.\n"
     ]
    },
    {
     "data": {
      "image/png": "[encoded data removed]",
      "text/plain": [
       "<Figure size 432x288 with 1 Axes>"
      ]
     },
     "metadata": {
      "needs_background": "light"
     },
     "output_type": "display_data"
    }
   ],
   "source": [
    "# plotting histogram to check the type of distribution\n",
    "plt.hist(df['Obese'])\n",
    "plt.show\n",
    "\n",
    "# to check if there is symmetry, we calculate the skew of the bimodal distribution\n",
    "if skew(df['Obese']) == 0:\n",
    "    print('This is a symmetrical bimodal distribution.')\n",
    "else:\n",
    "    print('This is a non-symmetrical bimodal distribution.')"
   ]
  },
  {
   "cell_type": "markdown",
   "id": "0265476d",
   "metadata": {},
   "source": [
    "## Data Visualization\n",
    "The graphs that I feel are appropriate for this project are mainly scatter plot, bar graph, box plot and density plot. Firstly, I will be creating a scatter graph portraying the relationship between only two factors, Weight and Obese, just to see whether there is a distinct relationship between them."
   ]
  },
  {
   "cell_type": "code",
   "execution_count": 13,
   "id": "4c50d367",
   "metadata": {},
   "outputs": [
    {
     "data": {
      "image/png": "[encoded data removed]",
      "text/plain": [
       "<Figure size 432x288 with 1 Axes>"
      ]
     },
     "metadata": {
      "needs_background": "light"
     },
     "output_type": "display_data"
    }
   ],
   "source": [
    "# plots a scatter plot between Weight and Obese\n",
    "plt.scatter(df['Weight'], df['Obese'])\n",
    "\n",
    "plt.xlabel(\"Weight\")\n",
    "plt.ylabel(\"Obese\")\n",
    "\n",
    "plt.show()"
   ]
  },
  {
   "cell_type": "code",
   "execution_count": 14,
   "id": "c808714c",
   "metadata": {},
   "outputs": [
    {
     "data": {
      "image/png": "[encoded data removed]",
      "text/plain": [
       "<Figure size 432x288 with 1 Axes>"
      ]
     },
     "metadata": {
      "needs_background": "light"
     },
     "output_type": "display_data"
    }
   ],
   "source": [
    "# plots a box plot between Obese and Weight\n",
    "sns.boxplot(x='Obese', y='Weight', data=df)\n",
    "\n",
    "plt.show()"
   ]
  },
  {
   "cell_type": "code",
   "execution_count": 15,
   "id": "00cb192b",
   "metadata": {},
   "outputs": [
    {
     "data": {
      "image/png": "[encoded data removed]",
      "text/plain": [
       "<Figure size 432x288 with 1 Axes>"
      ]
     },
     "metadata": {
      "needs_background": "light"
     },
     "output_type": "display_data"
    }
   ],
   "source": [
    "# plots a density plot between Obese and Weight\n",
    "sns.kdeplot(data=df[df['Obese']==0]['Weight'], shade=True, color='blue')\n",
    "sns.kdeplot(data=df[df['Obese']==1]['Weight'], shade=True, color='orange')\n",
    "\n",
    "plt.show()"
   ]
  },
  {
   "cell_type": "markdown",
   "id": "e5509532",
   "metadata": {},
   "source": [
    "As we can see from the above scatter plot, there is a distinct relationship between Weight and Obese. There is no personnel below the weight of approximately 60kg who is obese and personnel above the weight of approximately 120kg are obese. This implies that the dataset is a good measure for logistic regression due to the S-shape graph from the scatter plot.\n",
    "\n",
    "Next, we will be plotting a bar graph to showcase the relationship between Height and Obese."
   ]
  },
  {
   "cell_type": "code",
   "execution_count": 16,
   "id": "429c2dc0",
   "metadata": {},
   "outputs": [
    {
     "data": {
      "image/png": "[encoded data removed]",
      "text/plain": [
       "<Figure size 432x288 with 1 Axes>"
      ]
     },
     "metadata": {
      "needs_background": "light"
     },
     "output_type": "display_data"
    }
   ],
   "source": [
    "# plots a bar chart between Height and Obese\n",
    "sns.countplot(x='Height', hue='Obese', data=df)\n",
    "\n",
    "plt.show()"
   ]
  },
  {
   "cell_type": "markdown",
   "id": "a317b8d8",
   "metadata": {},
   "source": [
    "As we can see from the above bar graph, there is no clear relationship between Height and Obese. Any personnel, regardless of any height, can become obese. Therefore, the relationship between Weight and Obese is clearer than between Height and Obese.\n",
    "\n",
    "Now, we will plot a 2D scatter graph and a 3D scatter graph, just for a more diversed visualization, between the three attributes, Height, Weight and Obese."
   ]
  },
  {
   "cell_type": "code",
   "execution_count": 17,
   "id": "ec5d4552",
   "metadata": {},
   "outputs": [
    {
     "data": {
      "image/png": "[encoded data removed]",
      "text/plain": [
       "<Figure size 432x288 with 1 Axes>"
      ]
     },
     "metadata": {
      "needs_background": "light"
     },
     "output_type": "display_data"
    }
   ],
   "source": [
    "# plots a scatter plot for the three attributes\n",
    "sns.scatterplot(x='Height', y='Weight', hue='Obese', data=df)\n",
    "\n",
    "plt.show()"
   ]
  },
  {
   "cell_type": "code",
   "execution_count": 18,
   "id": "93afbfdd",
   "metadata": {
    "scrolled": false
   },
   "outputs": [
    {
     "data": {
      "image/png": "[encoded data removed]",
      "text/plain": [
       "<Figure size 432x288 with 1 Axes>"
      ]
     },
     "metadata": {
      "needs_background": "light"
     },
     "output_type": "display_data"
    }
   ],
   "source": [
    "# plots a 3d scatter plot for the three factors\n",
    "# building the figure and 3D axis\n",
    "fig = plt.figure()\n",
    "ax = fig.add_subplot(111, projection='3d')\n",
    "\n",
    "ax.scatter(df['Height'], df['Weight'], df['Obese'])\n",
    "\n",
    "plt.xlabel(\"Height\")\n",
    "plt.ylabel(\"Weight\")\n",
    "\n",
    "plt.show()"
   ]
  },
  {
   "cell_type": "markdown",
   "id": "261a6f4c",
   "metadata": {},
   "source": [
    "## Building ML Model\n",
    "The features, which are the input variables, are Height and Weight. They will be used to predict about the label, which is the target or output variable, Obese. The features are selected because they are good factors to determine the obesity of a person, such as Body Mass Index. These variables are important in the regression model as they will be used to generate a function, generally a mathematical equation, that maps the features to the label.\n",
    "\n",
    "My chosen ML approach is multiple logistic regression, because I have two features and a label with a binary value. Firstly, I will divide the dataset into a training set and a test set, with 80% of the initial dataset in the training set and 20% in the test set. I will use the training set to form the regression model and then use the test set to test the accuracy of the model."
   ]
  },
  {
   "cell_type": "code",
   "execution_count": 19,
   "id": "af529652",
   "metadata": {
    "scrolled": true
   },
   "outputs": [
    {
     "name": "stdout",
     "output_type": "stream",
     "text": [
      "X_train: (400, 2)\n",
      "y_train: (400,)\n",
      "X_test: (100, 2)\n",
      "y_test: (100,)\n"
     ]
    }
   ],
   "source": [
    "# split the data into training and test datasets, with 20% of data in the test set\n",
    "X_train, X_test, y_train, y_test = train_test_split(df[['Height', 'Weight']], df['Obese'], test_size=0.2)\n",
    "\n",
    "# display the size of the training and test sets\n",
    "print('X_train:', X_train.shape)\n",
    "print('y_train:', y_train.shape)\n",
    "print('X_test:', X_test.shape)\n",
    "print('y_test:', y_test.shape)"
   ]
  },
  {
   "cell_type": "code",
   "execution_count": 20,
   "id": "aa946b1b",
   "metadata": {
    "scrolled": false
   },
   "outputs": [
    {
     "name": "stdout",
     "output_type": "stream",
     "text": [
      "The accuracy of the model is: 0.98\n"
     ]
    }
   ],
   "source": [
    "# creating the logistic regression model\n",
    "mlr = LogisticRegression()\n",
    "mlr.fit(X_train, y_train)\n",
    "\n",
    "# initialise predictions on the test set\n",
    "prediction = mlr.predict(X_test)\n",
    "\n",
    "# calculate the accuracy of the model\n",
    "accuracy = mlr.score(X_test, y_test)\n",
    "print('The accuracy of the model is:', accuracy)"
   ]
  },
  {
   "cell_type": "markdown",
   "id": "e63fb961",
   "metadata": {},
   "source": [
    "As of this stage, we have successfully built the regression model, \"mlr\", to predict the obesity of a person based on his or her height and weight. The accuracy of the model tested from the training set on the test set is 98%, which is a very good result. Below are some codes to predict the obesity of a person provided his or her height and weight. As a reminder, 0 means not obese and 1 means obese. There is an error message about invalid feature names but we can ignore it as the code works and we have our output, which is the prediction."
   ]
  },
  {
   "cell_type": "code",
   "execution_count": 21,
   "id": "66d513db",
   "metadata": {
    "scrolled": false
   },
   "outputs": [
    {
     "name": "stdout",
     "output_type": "stream",
     "text": [
      "The prediction is: 0\n"
     ]
    },
    {
     "name": "stderr",
     "output_type": "stream",
     "text": [
      "C:\\Users\\Admin\\AppData\\Local\\Programs\\Python\\Python310\\lib\\site-packages\\sklearn\\base.py:409: UserWarning: X does not have valid feature names, but LogisticRegression was fitted with feature names\n",
      "  warnings.warn(\n"
     ]
    }
   ],
   "source": [
    "# here to input new values for the features\n",
    "Height = 180\n",
    "Weight = 90\n",
    "newInput = [[Height, Weight]]\n",
    "\n",
    "# prediction\n",
    "newPrediction = mlr.predict(newInput)[0]\n",
    "print('The prediction is:', newPrediction)"
   ]
  },
  {
   "cell_type": "markdown",
   "id": "30a96e62",
   "metadata": {},
   "source": [
    "# Conclusion\n",
    "\n",
    "## Results of the ML Model\n",
    "To test whether the regression model is a good model for predicting the data, I will write some code to calculate the RMSE value."
   ]
  },
  {
   "cell_type": "code",
   "execution_count": 22,
   "id": "e349356d",
   "metadata": {},
   "outputs": [
    {
     "name": "stdout",
     "output_type": "stream",
     "text": [
      "RMSE: 0.1414213562373095\n"
     ]
    }
   ],
   "source": [
    "# calculate the mean squared error\n",
    "mse = mean_squared_error(y_test, prediction)\n",
    "\n",
    "# calculate the RMSE\n",
    "rmse = np.sqrt(mse)\n",
    "\n",
    "print(\"RMSE:\", rmse)"
   ]
  },
  {
   "cell_type": "markdown",
   "id": "1c88090e",
   "metadata": {},
   "source": [
    "As we can see from the code above, the RMSE value is very low, which implies that the regression model is a good fit for the data and predicting the obesity of a person based on his or her height and weight. I am very satisfied with this regression model because the accuracy of the regression model trained with the training set and tested on the test set is 99%, as a form of cross-validation testing, and the RMSE value is very low. In conclusion, the regression model is a suitable and appropriate measure of the data to make a prediction.\n",
    "\n",
    "## Evaluation of the project and its results\n",
    "With the regression model that is built, I am confident that the healthcare industry can implement this model to help patients determine their obesity level based on accessible data which is their height and weight, and from there, advise them on what to do to maintain a healthy lifestyle. This will prevent more people from getting diseases such as heart disease or diabetes and prolong the patient's life. I believe this data might be able to be transferred to other domain-specific area such as marketing industry, if a fitness company wants to promote their gym membership to an obese customer to encourage physical activities for cutting calories or the food and beverage industry for promoting their healthier choices of food.\n",
    "\n",
    "There are many other methods for machine learning, be it different programming languages such as R and Java, development environments such as RStudio and Eclipse, and machine learning algorithms such as reinforcement learning algorithms, that I can use. However, the ML libraries used in this project are most likely the main libraries for a ML project, provided that the programming language is python. There are other benefits from using other programming languages, such as C++ having quick execution time, but python is definitely one of the most popular for its versatility. I believe the aim of this project can also be achieved with other machine learning approaches such as k-means clustering in unsupervised learning to cluster data into either obese or not obese, meaning k = 2 as there are 2 clusters.\n",
    "\n",
    "To better the performance of this model, other feature variables can be taken into consideration, such as diet and physical activities, into the model. The more the features, the better and accurate the prediction."
   ]
  },
  {
   "cell_type": "markdown",
   "id": "292b355f",
   "metadata": {},
   "source": [
    "# References\n",
    "Ersever, Y. (n.d.). 500 Person Gender-Height-Weight-Body Mass Index | Kaggle. Retrieved from Kaggle: https://www.kaggle.com/datasets/yersever/500-person-gender-height-weight-bodymassindex\n",
    "\n"
   ]
  },
  {
   "cell_type": "code",
   "execution_count": 5,
   "id": "c5e97cfa",
   "metadata": {},
   "outputs": [
    {
     "name": "stdout",
     "output_type": "stream",
     "text": [
      "[0.8333333333333334, 0.6666666666666666, 0.5833333333333334]\n",
      "Average precision: 0.6944444444444445\n",
      "Average recall: 0.7222222222222223\n"
     ]
    }
   ],
   "source": [
    "import numpy as np\n",
    "\n",
    "# Define the confusion matrix\n",
    "confusion_matrix = np.array([[20, 6, 4], [3, 16, 1], [1, 2, 7]])\n",
    "\n",
    "# Calculate the precision and recall for each class\n",
    "AP = []\n",
    "AR = []\n",
    "for i in range(3):\n",
    "    TP = confusion_matrix[i, i]\n",
    "    FP = np.sum(confusion_matrix[:, i]) - TP\n",
    "    FN = np.sum(confusion_matrix[i, :]) - TP\n",
    "    \n",
    "    precision = TP / (TP + FP)\n",
    "    recall = TP / (TP + FN)\n",
    "    \n",
    "    AP.append(precision)\n",
    "    AR.append(recall)\n",
    "\n",
    "# Compute the average precision and recall\n",
    "AP_mean = np.mean(AP)\n",
    "AR_mean = np.mean(AR)\n",
    "\n",
    "# Print the results\n",
    "print(AP)\n",
    "print('Average precision:', AP_mean)\n",
    "print('Average recall:', AR_mean)"
   ]
  },
  {
   "cell_type": "code",
   "execution_count": null,
   "id": "ad41313d",
   "metadata": {},
   "outputs": [],
   "source": []
  }
 ],
 "metadata": {
  "kernelspec": {
   "display_name": "Python 3 (ipykernel)",
   "language": "python",
   "name": "python3"
  },
  "language_info": {
   "codemirror_mode": {
    "name": "ipython",
    "version": 3
   },
   "file_extension": ".py",
   "mimetype": "text/x-python",
   "name": "python",
   "nbconvert_exporter": "python",
   "pygments_lexer": "ipython3",
   "version": "3.10.5"
  }
 },
 "nbformat": 4,
 "nbformat_minor": 5
}
